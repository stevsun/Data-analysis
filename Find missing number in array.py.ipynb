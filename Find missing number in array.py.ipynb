{
 "cells": [
  {
   "cell_type": "code",
   "execution_count": null,
   "metadata": {},
   "outputs": [],
   "source": [
    "class Solution:\n",
    "    def findDisappearedNumbers(self, nums):\n",
    "        \"\"\"\n",
    "        :type nums: List[int]\n",
    "        :rtype: List[int]\n",
    "        \"\"\"\n",
    "        size = len(nums)\n",
    "        rsize = size\n",
    "        rList = []\n",
    "        \n",
    "        # put 1..n in the return list first\n",
    "        for itg in range(1, size+1):\n",
    "            rList.append(itg)\n",
    "        \n",
    "        nums.sort()\n",
    "        \n",
    "        idx1 = 0\n",
    "        idx2 = 0\n",
    "        while True:\n",
    "            if idx1 >= rsize or idx2 >= size:\n",
    "                break\n",
    "            # if the number in rList is found in nums, remove it from rList\n",
    "            if rList[idx1] == nums[idx2]:\n",
    "                rList.pop(idx1)\n",
    "                idx2 += 1\n",
    "                rsize -= 1\n",
    "            # if the number in rList is smaller than that in nums, advance to next number in rList and continue\n",
    "            elif rList[idx1] < nums[idx2]:\n",
    "                idx1 += 1\n",
    "            else:\n",
    "                idx2 += 1\n",
    "\n",
    "        # return rList with numbers not found in nums\n",
    "        return rList\n"
   ]
  }
 ],
 "metadata": {
  "kernelspec": {
   "display_name": "Python 3",
   "language": "python",
   "name": "python3"
  },
  "language_info": {
   "codemirror_mode": {
    "name": "ipython",
    "version": 3
   },
   "file_extension": ".py",
   "mimetype": "text/x-python",
   "name": "python",
   "nbconvert_exporter": "python",
   "pygments_lexer": "ipython3",
   "version": "3.6.4"
  }
 },
 "nbformat": 4,
 "nbformat_minor": 2
}
