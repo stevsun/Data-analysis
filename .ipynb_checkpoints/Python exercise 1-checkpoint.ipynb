{
 "cells": [
  {
   "cell_type": "code",
   "execution_count": 1,
   "metadata": {},
   "outputs": [
    {
     "name": "stdout",
     "output_type": "stream",
     "text": [
      "13.4125\n"
     ]
    }
   ],
   "source": [
    "AngkorWat = (13.4125, 103.866667)\n",
    "print (AngkorWat[0])"
   ]
  },
  {
   "cell_type": "code",
   "execution_count": 7,
   "metadata": {},
   "outputs": [
    {
     "data": {
      "text/plain": [
       "(13.4125, 103.866667)"
      ]
     },
     "execution_count": 7,
     "metadata": {},
     "output_type": "execute_result"
    }
   ],
   "source": [
    "AngkorWat\n"
   ]
  },
  {
   "cell_type": "code",
   "execution_count": 20,
   "metadata": {},
   "outputs": [],
   "source": [
    "if type(AngkorWat) is str:\n",
    "    print (\"Hello\")"
   ]
  },
  {
   "cell_type": "code",
   "execution_count": 33,
   "metadata": {},
   "outputs": [
    {
     "name": "stdout",
     "output_type": "stream",
     "text": [
      "Angkor Wat is at latitude:13.4125\n"
     ]
    }
   ],
   "source": [
    "print(\"Angkor Wat is at latitude:{}\".format(AngkorWat[0]))"
   ]
  },
  {
   "cell_type": "code",
   "execution_count": 34,
   "metadata": {},
   "outputs": [
    {
     "data": {
      "text/plain": [
       "tuple"
      ]
     },
     "execution_count": 34,
     "metadata": {},
     "output_type": "execute_result"
    }
   ],
   "source": [
    "dimension = 1,2,3\n",
    "type(dimension)"
   ]
  },
  {
   "cell_type": "code",
   "execution_count": 36,
   "metadata": {},
   "outputs": [
    {
     "data": {
      "text/plain": [
       "int"
      ]
     },
     "execution_count": 36,
     "metadata": {},
     "output_type": "execute_result"
    }
   ],
   "source": [
    "height, width, depth = dimension\n",
    "type(height)\n",
    "#type(width)\n",
    "#type(depth)"
   ]
  },
  {
   "cell_type": "code",
   "execution_count": 53,
   "metadata": {},
   "outputs": [
    {
     "name": "stdout",
     "output_type": "stream",
     "text": [
      "Bad value in array. Abort the function\n",
      "None\n"
     ]
    }
   ],
   "source": [
    "class Solution:\n",
    "    def sortArrayByParity(self, A):\n",
    "        \"\"\"\n",
    "        :type A: List[int]\n",
    "        :rtype: List[int]\n",
    "        \"\"\"\n",
    "        if len(A) ==0 or len(A) > 5000:\n",
    "            print(\"Array exceeds max size\")\n",
    "            return None\n",
    "        \n",
    "        ArrayB = []\n",
    "        for val in A:\n",
    "            if val <0 or val > 5000:\n",
    "                print(\"Bad value in array. Abort the function\")\n",
    "                return None\n",
    "            \n",
    "            if val % 2 == 0:\n",
    "                ArrayB.insert(0, val)\n",
    "            else:\n",
    "                ArrayB.append(val)\n",
    "        return ArrayB\n",
    "\n",
    "sol = Solution()\n",
    "array=[1,4,500000,3,2]\n",
    "print (sol.sortArrayByParity(array))\n"
   ]
  },
  {
   "cell_type": "code",
   "execution_count": 77,
   "metadata": {},
   "outputs": [
    {
     "name": "stdout",
     "output_type": "stream",
     "text": [
      "[1, 2, 2, 3, 5, 6]\n"
     ]
    }
   ],
   "source": [
    "class Solution:\n",
    "    def merge(self, nums1, m, nums2, n):\n",
    "        \"\"\"\n",
    "        :type nums1: List[int]\n",
    "        :type m: int\n",
    "        :type nums2: List[int]\n",
    "        :type n: int\n",
    "        :rtype: void Do not return anything, modify nums1 in-place instead.\n",
    "        \"\"\"\n",
    "        idx1 = 0\n",
    "        idx2 = 0\n",
    "        temparray = []\n",
    "        \n",
    "        # go through the m elements in nums1 and n elements in nums2 to merge\n",
    "        while True:\n",
    "            if nums1[idx1] <= nums2[idx2]:\n",
    "                temparray.append(nums1[idx1])\n",
    "                idx1 += 1\n",
    "            else:\n",
    "                temparray.append(nums2[idx2])\n",
    "                idx2 += 1\n",
    "\n",
    "            #if exceed m elements in nums1 or n elements in nums2, exit the loop\n",
    "            if idx1 >= m or idx2 >= n:\n",
    "                break\n",
    "            else:\n",
    "                continue\n",
    "\n",
    "        if idx1 < m:\n",
    "            for ii in range(idx1,m):\n",
    "                temparray.append(nums1[ii])\n",
    "        else:\n",
    "            for ii in range(idx2, n):\n",
    "                temparray.append(nums2[ii])\n",
    "        nums1.clear()\n",
    "        for elem in temparray:\n",
    "            nums1.append(elem)\n",
    "\n",
    "sol = Solution()\n",
    "nums1=[1,2,3,0,0,0]\n",
    "nums2=[2,5,6]\n",
    "sol.merge(nums1, 3, nums2, 3)\n",
    "print(nums1)"
   ]
  },
  {
   "cell_type": "code",
   "execution_count": 78,
   "metadata": {},
   "outputs": [
    {
     "name": "stdout",
     "output_type": "stream",
     "text": [
      "[[1, 1, 0], [1, 0, 1], [0, 0, 0]]\n",
      "[[1, 0, 0], [0, 1, 0], [1, 1, 1]]\n",
      "[[1, 0, 0], [0, 1, 0], [1, 1, 1]]\n"
     ]
    }
   ],
   "source": [
    "class Solution:\n",
    "    def flipAndInvertImage(self, A):\n",
    "        \"\"\"\n",
    "        :type A: List[List[int]]\n",
    "        :rtype: List[List[int]]\n",
    "        \"\"\"\n",
    "        print(A)\n",
    "        for llist in A:\n",
    "            llist.reverse()\n",
    "            for ii in range(0,len(llist)):\n",
    "                llist[ii] = llist[ii] ^ 1\n",
    "        print(A)\n",
    "\n",
    "\n",
    "sol = Solution()\n",
    "array=[[1,1,0],[1,0,1],[0,0,0]]\n",
    "sol.flipAndInvertImage(array)\n",
    "print(array)"
   ]
  },
  {
   "cell_type": "code",
   "execution_count": 89,
   "metadata": {},
   "outputs": [
    {
     "name": "stdout",
     "output_type": "stream",
     "text": [
      "(1, 21)\n"
     ]
    }
   ],
   "source": [
    "def hours2days(hours):\n",
    "    days = hours//24\n",
    "    rhours = hours % 24\n",
    "    return (days, rhours)\n",
    "    \n",
    "if __name__ == \"__main__\":\n",
    "    print(hours2days(45))"
   ]
  },
  {
   "cell_type": "code",
   "execution_count": 87,
   "metadata": {},
   "outputs": [
    {
     "data": {
      "text/plain": [
       "16"
      ]
     },
     "execution_count": 87,
     "metadata": {},
     "output_type": "execute_result"
    }
   ],
   "source": [
    "def nearest_square(limit):\n",
    "    \"\"\" Find the largest square number smaller than limit. \"\"\"\n",
    "    answer = 0\n",
    "    answer = int(limit ** .5)\n",
    "    return answer**2\n",
    "\n",
    "nearest_square(20)"
   ]
  },
  {
   "cell_type": "code",
   "execution_count": 90,
   "metadata": {},
   "outputs": [
    {
     "ename": "UnboundLocalError",
     "evalue": "local variable 'egg_count' referenced before assignment",
     "output_type": "error",
     "traceback": [
      "\u001b[0;31m---------------------------------------------------------------------------\u001b[0m",
      "\u001b[0;31mUnboundLocalError\u001b[0m                         Traceback (most recent call last)",
      "\u001b[0;32m<ipython-input-90-32dca0f4d031>\u001b[0m in \u001b[0;36m<module>\u001b[0;34m()\u001b[0m\n\u001b[1;32m      4\u001b[0m     \u001b[0megg_count\u001b[0m \u001b[0;34m+=\u001b[0m \u001b[0;36m12\u001b[0m \u001b[0;31m# purchase a dozen eggs\u001b[0m\u001b[0;34m\u001b[0m\u001b[0m\n\u001b[1;32m      5\u001b[0m \u001b[0;34m\u001b[0m\u001b[0m\n\u001b[0;32m----> 6\u001b[0;31m \u001b[0mbuy_eggs\u001b[0m\u001b[0;34m(\u001b[0m\u001b[0;34m)\u001b[0m\u001b[0;34m\u001b[0m\u001b[0m\n\u001b[0m",
      "\u001b[0;32m<ipython-input-90-32dca0f4d031>\u001b[0m in \u001b[0;36mbuy_eggs\u001b[0;34m()\u001b[0m\n\u001b[1;32m      2\u001b[0m \u001b[0;34m\u001b[0m\u001b[0m\n\u001b[1;32m      3\u001b[0m \u001b[0;32mdef\u001b[0m \u001b[0mbuy_eggs\u001b[0m\u001b[0;34m(\u001b[0m\u001b[0;34m)\u001b[0m\u001b[0;34m:\u001b[0m\u001b[0;34m\u001b[0m\u001b[0m\n\u001b[0;32m----> 4\u001b[0;31m     \u001b[0megg_count\u001b[0m \u001b[0;34m+=\u001b[0m \u001b[0;36m12\u001b[0m \u001b[0;31m# purchase a dozen eggs\u001b[0m\u001b[0;34m\u001b[0m\u001b[0m\n\u001b[0m\u001b[1;32m      5\u001b[0m \u001b[0;34m\u001b[0m\u001b[0m\n\u001b[1;32m      6\u001b[0m \u001b[0mbuy_eggs\u001b[0m\u001b[0;34m(\u001b[0m\u001b[0;34m)\u001b[0m\u001b[0;34m\u001b[0m\u001b[0m\n",
      "\u001b[0;31mUnboundLocalError\u001b[0m: local variable 'egg_count' referenced before assignment"
     ]
    }
   ],
   "source": [
    "egg_count = 0\n",
    "\n",
    "def buy_eggs():\n",
    "    egg_count += 12 # purchase a dozen eggs\n",
    "\n",
    "buy_eggs()"
   ]
  },
  {
   "cell_type": "code",
   "execution_count": 93,
   "metadata": {},
   "outputs": [
    {
     "name": "stdout",
     "output_type": "stream",
     "text": [
      "['enrollments.csv:', 'Data', 'about', 'a', 'random', 'subset', 'of', 'Data', 'Analyst', 'Nanodegree', 'students', 'who', 'complete', 'their']\n"
     ]
    }
   ],
   "source": [
    "with open(\"/Users/stevsun/jupyter_space/Data analysis/table_descriptions.txt\") as fd:\n",
    "    document=fd.read(100)\n",
    "    words = document.split()\n",
    "    print (words)"
   ]
  },
  {
   "cell_type": "code",
   "execution_count": 97,
   "metadata": {},
   "outputs": [
    {
     "name": "stdout",
     "output_type": "stream",
     "text": [
      "[['Graham', 'Chapman,'], ['Eric', 'Idle,'], ['Terry', 'Jones,'], ['Michael', 'Palin,'], ['Terry', 'Gilliam,'], ['John', 'Cleese,'], ['Carol', 'Cleveland,'], ['Ian', 'Davidson,'], ['John', 'Hughman,'], ['The', 'Fred'], ['Connie', 'Booth,'], ['Bob', 'Raymond,'], ['Lyn', 'Ashley,'], ['Rita', 'Davies,'], ['Stanley', 'Mason,'], ['David', 'Ballantyne,'], ['Donna', 'Reading,'], ['Peter', 'Brett,'], ['Maureen', 'Flanagan,'], ['Katya', 'Wyeth,'], ['Frank', 'Lester,'], ['Neil', 'Innes,'], ['Dick', 'Vosburgh,'], ['Sandra', 'Richards,'], ['Julia', 'Breck,'], ['Nicki', 'Howorth,'], ['Jimmy', 'Hill,'], ['Barry', 'Cryer,'], ['Jeannette', 'Wild,'], ['Marjorie', 'Wilde,'], ['Marie', 'Anderson,'], ['Caron', 'Gardner,'], ['Nosher', 'Powell,'], ['Carolae', 'Donoghue,'], ['Vincent', 'Wong,'], ['Helena', 'Clayton,'], ['Nigel', 'Jones,'], ['Roy', 'Gunson,'], ['Daphne', 'Davey,'], ['Stenson', 'Falke,'], ['Alexander', 'Curry,'], ['Frank', 'Williams,'], ['Ralph', 'Wood,'], ['Rosalind', 'Bailey,'], ['Marion', 'Mould,'], ['Sheila', 'Sands,'], ['Richard', 'Baker,'], ['Douglas', 'Adams,'], ['Ewa', 'Aulin,'], ['Reginald', 'Bosanquet,'], ['Barbara', 'Lindley,'], ['Roy', 'Brent,'], ['Jonas', 'Card,'], ['Tony', 'Christopher,'], ['Beulah', 'Hughes,'], ['Peter', 'Kodak,'], ['Lulu,', 'Herself'], ['Jay', 'Neill,'], ['Graham', 'Skidmore,'], ['Ringo', 'Starr,'], ['Fred', 'Tomlinson,'], ['David', 'Hamilton,'], ['Suzy', 'Mandel,'], ['Peter', 'Woods,']]\n"
     ]
    }
   ],
   "source": [
    "cast_list = []\n",
    "\n",
    "with open(\"/Users/stevsun/jupyter_space/Data analysis/flying_circus_cast.txt\") as fd:\n",
    "    for line in fd:\n",
    "        token_list=line.split()\n",
    "        cast_list.append([token_list[0], token_list[1]])\n",
    "        \n",
    "print(cast_list)"
   ]
  },
  {
   "cell_type": "code",
   "execution_count": 101,
   "metadata": {},
   "outputs": [
    {
     "name": "stdout",
     "output_type": "stream",
     "text": [
      "2018-09-22 00:27:35.917717+00:00\n",
      "2018-09-22 05:57:35.917771+05:30\n"
     ]
    }
   ],
   "source": [
    "from datetime import datetime\n",
    "import pytz\n",
    "\n",
    "utc = pytz.utc\n",
    "itc = pytz.timezone(\"Asia/Kolkata\")\n",
    "\n",
    "udate = datetime.now(utc)\n",
    "idate = datetime.now(itc)\n",
    "\n",
    "print (udate)\n",
    "print (idate)"
   ]
  },
  {
   "cell_type": "code",
   "execution_count": 104,
   "metadata": {},
   "outputs": [
    {
     "name": "stdout",
     "output_type": "stream",
     "text": [
      "['wake up', 'begin orbital transfer']\n"
     ]
    }
   ],
   "source": [
    "def todo_list(new_task, base_list=['wake up']):\n",
    "    base_list.append(new_task)\n",
    "    return base_list\n",
    "\n",
    "#print(todo_list(\"check the mail\"))\n",
    "print(todo_list(\"begin orbital transfer\"))"
   ]
  },
  {
   "cell_type": "code",
   "execution_count": null,
   "metadata": {},
   "outputs": [],
   "source": []
  }
 ],
 "metadata": {
  "kernelspec": {
   "display_name": "Python 3",
   "language": "python",
   "name": "python3"
  },
  "language_info": {
   "codemirror_mode": {
    "name": "ipython",
    "version": 3
   },
   "file_extension": ".py",
   "mimetype": "text/x-python",
   "name": "python",
   "nbconvert_exporter": "python",
   "pygments_lexer": "ipython3",
   "version": "3.6.4"
  }
 },
 "nbformat": 4,
 "nbformat_minor": 2
}
